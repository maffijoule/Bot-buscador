{
 "cells": [
  {
   "cell_type": "code",
   "execution_count": null,
   "metadata": {},
   "outputs": [],
   "source": [
    "from selenium import webdriver\n",
    "from selenium.webdriver.common.keys import Keys\n",
    "from webdriver_manager.chrome import ChromeDriverManager\n",
    "import time\n",
    "\n",
    "driver =webdriver.Chrome(ChromeDriverManager().install())\n",
    "driver.get('https://10fastfingers.com/advanced-typing-test/spanish')\n",
    "title=driver.title\n",
    "assert title in driver.title\n",
    "\n",
    "time.sleep(5)\n",
    "\n",
    "for i in range(1,1000):\n",
    "        path='//*[@id=\"row1\"]/span['+str(i)+']'\n",
    "        element = driver.find_element_by_xpath(path).text\n",
    "        element+=' '\n",
    "        elem = driver.find_element_by_xpath('//*[@id=\"inputfield\"]')\n",
    "        elem.send_keys(element)"
   ]
  }
 ],
 "metadata": {
  "kernelspec": {
   "display_name": "Python 3",
   "language": "python",
   "name": "python3"
  },
  "language_info": {
   "codemirror_mode": {
    "name": "ipython",
    "version": 3
   },
   "file_extension": ".py",
   "mimetype": "text/x-python",
   "name": "python",
   "nbconvert_exporter": "python",
   "pygments_lexer": "ipython3",
   "version": "3.7.4"
  }
 },
 "nbformat": 4,
 "nbformat_minor": 2
}
