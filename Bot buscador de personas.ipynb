{
 "cells": [
  {
   "cell_type": "code",
   "execution_count": null,
   "metadata": {},
   "outputs": [],
   "source": [
    "from selenium import webdriver\n",
    "from selenium.webdriver.common.keys import Keys\n",
    "from webdriver_manager.chrome import ChromeDriverManager\n",
    "driver =webdriver.Chrome(ChromeDriverManager().install())\n",
    "driver.get(\"http://m.udec.cl/Busqueda.php\")\n",
    "assert \"UdeC\" in driver.title\n",
    "alumnos=['Reyes Pablo','Badilla Mathias']\n",
    "datos=[]\n",
    "for i in alumnos:\n",
    "    elem = driver.find_element_by_name(\"palabra\")\n",
    "    elem.send_keys(i)\n",
    "    elem.send_keys(Keys.RETURN)\n",
    "    i=2\n",
    "    while(True):\n",
    "        try:\n",
    "            path='/html/body/div[1]/div[2]/ul[1]/li['+str(i)+']'\n",
    "            element = driver.find_element_by_xpath(path).text\n",
    "            element=element.split('\\n')\n",
    "            if(element[1]=='INGENIERIA CIVIL INDUSTRIAL'):\n",
    "                datos.append(element)\n",
    "                break\n",
    "            i+=1\n",
    "        except:\n",
    "            break"
   ]
  }
 ],
 "metadata": {
  "kernelspec": {
   "display_name": "Python 3",
   "language": "python",
   "name": "python3"
  },
  "language_info": {
   "codemirror_mode": {
    "name": "ipython",
    "version": 3
   },
   "file_extension": ".py",
   "mimetype": "text/x-python",
   "name": "python",
   "nbconvert_exporter": "python",
   "pygments_lexer": "ipython3",
   "version": "3.7.4"
  }
 },
 "nbformat": 4,
 "nbformat_minor": 2
}
